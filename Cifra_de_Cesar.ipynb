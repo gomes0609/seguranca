{
  "nbformat": 4,
  "nbformat_minor": 0,
  "metadata": {
    "colab": {
      "provenance": [],
      "include_colab_link": true
    },
    "kernelspec": {
      "name": "python3",
      "display_name": "Python 3"
    },
    "language_info": {
      "name": "python"
    }
  },
  "cells": [
    {
      "cell_type": "markdown",
      "metadata": {
        "id": "view-in-github",
        "colab_type": "text"
      },
      "source": [
        "<a href=\"https://colab.research.google.com/github/gomes0609/seguranca/blob/main/Cifra_de_Cesar.ipynb\" target=\"_parent\"><img src=\"https://colab.research.google.com/assets/colab-badge.svg\" alt=\"Open In Colab\"/></a>"
      ]
    },
    {
      "cell_type": "code",
      "execution_count": null,
      "metadata": {
        "id": "MVMJFc-snFJn",
        "outputId": "8fe2816f-151f-4577-efc9-5e3fd56aefb6",
        "colab": {
          "base_uri": "https://localhost:8080/"
        }
      },
      "outputs": [
        {
          "output_type": "stream",
          "name": "stdout",
          "text": [
            "Texto criptografado: ROD PXQGR\n",
            "Texto descriptografado: URG SATJU\n"
          ]
        }
      ],
      "source": [
        "def cifra_cesar(texto, chave, modo='encriptar'):\n",
        "  \"\"\"\n",
        "  Criptografa ou descriptografa uma mensagem usando a cifra de César.\n",
        "\n",
        "  Args:\n",
        "    texto: A mensagem a ser criptografada ou descriptografada.\n",
        "    chave: O número de posições para deslocar as letras no alfabeto.\n",
        "    modo: 'encriptar' para criptografar, 'decriptar' para descriptografar.\n",
        "\n",
        "  Returns:\n",
        "    A mensagem criptografada ou descriptografada.\n",
        "  \"\"\"\n",
        "\n",
        "  alfabeto = 'ABCDEFGHIJKLMNOPQRSTUVWXYZ'\n",
        "  texto = texto.upper()\n",
        "  resultado = ''\n",
        "\n",
        "  for letra in texto:\n",
        "    if letra in alfabeto:\n",
        "      indice = (alfabeto.find(letra) + chave) % 26\n",
        "      resultado += alfabeto[indice]\n",
        "    else:\n",
        "      resultado += letra\n",
        "\n",
        "  return resultado\n",
        "\n",
        "# Exemplos de uso:\n",
        "texto_original = \"OLA MUNDO\"\n",
        "chave = 3\n",
        "\n",
        "texto_criptografado = cifra_cesar(texto_original, chave)\n",
        "print(\"Texto criptografado:\", texto_criptografado)\n",
        "\n",
        "texto_decriptografado = cifra_cesar(texto_criptografado, chave, modo='decriptar')\n",
        "print(\"Texto descriptografado:\", texto_decriptografado)"
      ]
    }
  ]
}