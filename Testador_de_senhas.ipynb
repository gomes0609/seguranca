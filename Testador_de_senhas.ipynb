{
  "nbformat": 4,
  "nbformat_minor": 0,
  "metadata": {
    "colab": {
      "provenance": [],
      "authorship_tag": "ABX9TyN6Zc2i+ZNJ7DGewqxquDpl",
      "include_colab_link": true
    },
    "kernelspec": {
      "name": "python3",
      "display_name": "Python 3"
    },
    "language_info": {
      "name": "python"
    }
  },
  "cells": [
    {
      "cell_type": "markdown",
      "metadata": {
        "id": "view-in-github",
        "colab_type": "text"
      },
      "source": [
        "<a href=\"https://colab.research.google.com/github/gomes0609/seguranca/blob/main/Testador_de_senhas.ipynb\" target=\"_parent\"><img src=\"https://colab.research.google.com/assets/colab-badge.svg\" alt=\"Open In Colab\"/></a>"
      ]
    },
    {
      "cell_type": "code",
      "execution_count": null,
      "metadata": {
        "colab": {
          "base_uri": "https://localhost:8080/"
        },
        "id": "CObIKgw4XbvX",
        "outputId": "ac4ff7e8-ba5e-413d-847f-dd4761eb7a34"
      },
      "outputs": [
        {
          "output_type": "stream",
          "name": "stdout",
          "text": [
            "Digite sua senha: wea5sd6f7g8h9joilZGFTEY¨¨%¨Z%$%675s6z\n",
            "A senha 'wea5sd6f7g8h9joilZGFTEY¨¨%¨Z%$%675s6z' é considerada Forte.\n"
          ]
        }
      ],
      "source": [
        "import re\n",
        "import string\n",
        "\n",
        "def classificar_senha(senha):\n",
        "    \"\"\"Classifica uma senha como fraca, média ou forte.\n",
        "\n",
        "    Args:\n",
        "        senha (str): A senha a ser analisada.\n",
        "\n",
        "    Returns:\n",
        "        str: A classificação da senha.\n",
        "    \"\"\"\n",
        "\n",
        "    # Definindo conjuntos de caracteres\n",
        "    letras_maiusculas = string.ascii_uppercase\n",
        "    letras_minusculas = string.ascii_lowercase\n",
        "    digitos = string.digits\n",
        "    caracteres_especiais = string.punctuation\n",
        "\n",
        "    # Verificando a existência de cada tipo de caractere\n",
        "    tem_maiuscula = any(c in letras_maiusculas for c in senha)\n",
        "    tem_minuscula = any(c in letras_minusculas for c in senha)\n",
        "    tem_digito = any(c in digitos for c in senha)\n",
        "    tem_especial = any(c in caracteres_especiais for c in senha)\n",
        "\n",
        "    # Definindo os critérios de classificação\n",
        "    if len(senha) < 8:\n",
        "        return \"Fraca\"\n",
        "    elif len(senha) < 12:\n",
        "        if sum((tem_maiuscula, tem_minuscula, tem_digito, tem_especial)) >= 3:\n",
        "            return \"Média\"\n",
        "        else:\n",
        "            return \"Fraca\"\n",
        "    else:\n",
        "        if sum((tem_maiuscula, tem_minuscula, tem_digito, tem_especial)) == 4:\n",
        "            return \"Forte\"\n",
        "        else:\n",
        "            return \"Média\"\n",
        "\n",
        "if __name__ == \"__main__\":\n",
        "    senha = input(\"Digite sua senha: \")\n",
        "    classificacao = classificar_senha(senha)\n",
        "    print(f\"A senha '{senha}' é considerada {classificacao}.\")"
      ]
    }
  ]
}