{
  "cells": [
    {
      "cell_type": "markdown",
      "metadata": {
        "id": "view-in-github",
        "colab_type": "text"
      },
      "source": [
        "<a href=\"https://colab.research.google.com/github/gomes0609/seguranca/blob/main/Gerador_de_senhas.ipynb\" target=\"_parent\"><img src=\"https://colab.research.google.com/assets/colab-badge.svg\" alt=\"Open In Colab\"/></a>"
      ]
    },
    {
      "cell_type": "code",
      "execution_count": null,
      "metadata": {
        "colab": {
          "background_save": true,
          "base_uri": "https://localhost:8080/"
        },
        "id": "CCH3SAPRP_mb",
        "outputId": "17389c00-dc7b-4894-83c2-6a1a24f5fafb"
      },
      "outputs": [
        {
          "name": "stdout",
          "output_type": "stream",
          "text": [
            "\n",
            "Gerador de Senhas\n",
            "1. Senha com letras, números e símbolos\n",
            "2. Senha com letras e números\n",
            "3. Senha com letras e símbolos\n",
            "4. Sair\n"
          ]
        }
      ],
      "source": [
        "# @title Gerador de Senhas\n",
        "\n",
        "import random\n",
        "import string\n",
        "\n",
        "def gerar_senha(tamanho, incluir_numeros=True,incluir_simbolos=True):\n",
        "\n",
        "  caracteres_base = string.ascii_letters #Letras maiúsculas e minúsculas\n",
        "\n",
        "  if incluir_numeros:\n",
        "    caracteres_base += string.digits\n",
        "  if incluir_simbolos:\n",
        "    caracteres_base += string.punctuation\n",
        "\n",
        "  senha = ''.join(random.choice(caracteres_base) for _ in range(tamanho))\n",
        "  return senha\n",
        "\n",
        " # Opções interativas\n",
        "\n",
        "while True:\n",
        "    print(\"\\nGerador de Senhas\")\n",
        "    print(\"1. Senha com letras, números e símbolos\")\n",
        "    print(\"2. Senha com letras e números\")\n",
        "    print(\"3. Senha com letras e símbolos\")\n",
        "    print(\"4. Sair\")\n",
        "\n",
        "    opcao = input(\"Escolha uma opção: \")\n",
        "\n",
        "    if opcao == '1':\n",
        "      tamanho =int(input(\"Digite o tamanho da senha: \"))\n",
        "      senha = gerar_senha(tamanho)\n",
        "      print(f\"Senha gerada:, {senha}\")\n",
        "    elif opcao == '2':\n",
        "      tamanho = int(input(\"DIgite o tamanho da senha:\"))\n",
        "      senha = gerar_senha(tamanho, incluir_simbolos=False)\n",
        "      print(f\"Senha gerada: {senha}\")\n",
        "\n",
        "    elif opcao == '3':\n",
        "      tamanho = int(input(\"Digite o tamanho da senha: \"))\n",
        "      senha = gerar_senha(tamanho, incluir_numeros=False)\n",
        "      print(f\"Senha gerada: {senha}\")\n",
        "    elif opcao == '4':\n",
        "      print(\"Saindo...\")\n",
        "      break\n",
        "\n",
        "    else:\n",
        "      print(\"Opção inválida. Tente novamente.\")\n"
      ]
    }
  ],
  "metadata": {
    "colab": {
      "provenance": [],
      "authorship_tag": "ABX9TyPCzAWX9PsT+0uiPP0pcCdB",
      "include_colab_link": true
    },
    "kernelspec": {
      "display_name": "Python 3",
      "name": "python3"
    },
    "language_info": {
      "name": "python"
    }
  },
  "nbformat": 4,
  "nbformat_minor": 0
}