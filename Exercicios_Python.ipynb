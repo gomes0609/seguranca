{
  "nbformat": 4,
  "nbformat_minor": 0,
  "metadata": {
    "colab": {
      "provenance": [],
      "authorship_tag": "ABX9TyOcoJ0Eqn7IdWwtwXf0QgAm",
      "include_colab_link": true
    },
    "kernelspec": {
      "name": "python3",
      "display_name": "Python 3"
    },
    "language_info": {
      "name": "python"
    }
  },
  "cells": [
    {
      "cell_type": "markdown",
      "metadata": {
        "id": "view-in-github",
        "colab_type": "text"
      },
      "source": [
        "<a href=\"https://colab.research.google.com/github/gomes0609/seguranca/blob/main/Exercicios_Python.ipynb\" target=\"_parent\"><img src=\"https://colab.research.google.com/assets/colab-badge.svg\" alt=\"Open In Colab\"/></a>"
      ]
    },
    {
      "cell_type": "code",
      "execution_count": null,
      "metadata": {
        "cellView": "form",
        "id": "Dmvo_IafLcum"
      },
      "outputs": [],
      "source": [
        "# @title Olá mundo\n",
        "print(\"Olá, mundo!\")"
      ]
    },
    {
      "cell_type": "code",
      "source": [
        "# @title Calculo simples\n",
        "numero1 = int(input(\"Digite um número: \"))\n",
        "numero2 = int(input(\"Digite um número: \"))\n",
        "numero3 = int(input(\"Digite um número: \"))\n",
        "soma = numero1 + numero2  + numero3\n",
        "subtracao = numero1 - numero2 - numero3\n",
        "multiplicacao = numero1 * numero2 * numero3\n",
        "divisao = numero1 / numero2 / numero3\n",
        "print(\"Soma:\", soma)\n",
        "print(\"Subtração:\", subtracao)\n",
        "print(\"Multiplicação:\", multiplicacao)\n",
        "print(\"Divisão:\", divisao)"
      ],
      "metadata": {
        "collapsed": true,
        "cellView": "form",
        "id": "uxWdQZJWWa2x"
      },
      "execution_count": null,
      "outputs": []
    },
    {
      "cell_type": "code",
      "source": [
        "# @title Entrada de dados\n",
        "nome = input(\"Digite seu nome: \")\n",
        "DataN = input(\"Digite sua data de nascimento: \")\n",
        "Curso= input(\"Digite seu curso: \")\n",
        "\n",
        "print(\"Olá,\", nome + \"!\")\n",
        "print(\"Seu nascimento é,\", DataN + \"!\")\n",
        "print(\"Bem vindo ao,\", Curso + \"!\")\n"
      ],
      "metadata": {
        "collapsed": true,
        "cellView": "form",
        "id": "0QyQbSuCWuZ0"
      },
      "execution_count": null,
      "outputs": []
    },
    {
      "cell_type": "code",
      "source": [
        "# @title Condições\n",
        "numero = int(input(\"Digite um número: \"))\n",
        "if numero % 2 == 0:\n",
        "  print(\"O número é par.\")\n",
        "else:\n",
        "  print(\"O número é ímpar.\")"
      ],
      "metadata": {
        "collapsed": true,
        "cellView": "form",
        "id": "GZHBYSKYXpWH"
      },
      "execution_count": null,
      "outputs": []
    },
    {
      "cell_type": "code",
      "source": [
        "# @title Laços de repetição\n",
        "for i in range(1, 11):\n",
        "  print(i)"
      ],
      "metadata": {
        "collapsed": true,
        "cellView": "form",
        "id": "PoR4f4EYYMGx"
      },
      "execution_count": null,
      "outputs": []
    },
    {
      "cell_type": "code",
      "source": [
        "# @title Calculadora Simples\n",
        "\n",
        "num1 = float(input(\"Digite o primeiro número: \"))\n",
        "num2 = float(input(\"Digite o segundo número: \"))\n",
        "operacao = input(\"Digite a operação (+, -, *, /, %, ==, >, <,**): \")\n",
        "if operacao == \"+\":\n",
        "  resultado = num1 + num2\n",
        "elif operacao == \"-\":\n",
        "  resultado = num1 - num2\n",
        "elif operacao == \"*\":\n",
        "  resultado = num1 * num2\n",
        "elif operacao == \"/\":\n",
        "  resultado = num1 / num2\n",
        "elif operacao == \"%\":\n",
        "  resultado = num1 % num2\n",
        "elif operacao == \"==\":\n",
        "  resultado = num1 == num2\n",
        "elif operacao == \">\":\n",
        "  resultado = num1 > num2\n",
        "elif operacao == \"<\":\n",
        "  resultado = num1 < num2\n",
        "elif operacao == \"**\":\n",
        "  resultado = num1 ** num2\n",
        "else:\n",
        "  print(\"Operação inválida.\")\n",
        "print(\"Resultado:\", resultado)"
      ],
      "metadata": {
        "colab": {
          "base_uri": "https://localhost:8080/"
        },
        "id": "4-2z8Lf9GAn1",
        "outputId": "6004b4ad-c165-41fa-94fe-3026ed5c866b",
        "cellView": "form"
      },
      "execution_count": null,
      "outputs": [
        {
          "output_type": "stream",
          "name": "stdout",
          "text": [
            "Digite o primeiro número: 6\n",
            "Digite o segundo número: 7\n",
            "Digite a operação (+, -, *, /, %, ==, >, <,**): **\n",
            "Resultado: 279936.0\n"
          ]
        }
      ]
    },
    {
      "cell_type": "code",
      "source": [
        "# @title Listas\n",
        "\n",
        "nomes = [\"Alice\", \"Bob\", \"Charlie\", \"Leo\",\"Isabella\",\"Beatriz\",\"Gabi\",\"Zion\",\"Evenlly\"]\n",
        "for nome in nomes:\n",
        "  print(nome)"
      ],
      "metadata": {
        "colab": {
          "base_uri": "https://localhost:8080/"
        },
        "id": "CN77MNayHE7q",
        "outputId": "2f85687a-cdca-4170-f5d4-0d184482a111",
        "cellView": "form"
      },
      "execution_count": null,
      "outputs": [
        {
          "output_type": "stream",
          "name": "stdout",
          "text": [
            "Alice\n",
            "Bob\n",
            "Charlie\n",
            "Leo\n",
            "Isabella\n",
            "Beatriz\n",
            "Gabi\n",
            "Zion\n",
            "Evenlly\n"
          ]
        }
      ]
    },
    {
      "cell_type": "code",
      "source": [
        "# @title Funções\n",
        "import math\n",
        "def calcular_area_circulo(raio):\n",
        "  area = math.pi * raio**2\n",
        "  return area\n",
        "raio = float(input(\"Digite o raio do círculo: \"))\n",
        "area = calcular_area_circulo(raio)\n",
        "print(\"A área do círculo é:\", area)"
      ],
      "metadata": {
        "colab": {
          "base_uri": "https://localhost:8080/"
        },
        "cellView": "form",
        "id": "4JnYf6bxHVvl",
        "outputId": "b78837ac-ac9e-4eb7-e456-3bed3eb0a3d3"
      },
      "execution_count": null,
      "outputs": [
        {
          "output_type": "stream",
          "name": "stdout",
          "text": [
            "Digite o raio do círculo: 5\n",
            "A área do círculo é: 78.53981633974483\n"
          ]
        }
      ]
    }
  ]
}